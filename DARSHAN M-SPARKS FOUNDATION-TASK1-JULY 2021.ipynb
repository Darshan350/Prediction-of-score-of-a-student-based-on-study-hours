{
 "cells": [
  {
   "cell_type": "markdown",
   "id": "8712b954",
   "metadata": {},
   "source": [
    "## GRIP: The Sparks Foundation"
   ]
  },
  {
   "cell_type": "markdown",
   "id": "b3f1e0aa",
   "metadata": {},
   "source": [
    "## Data Science and Buisness Analytics Internship"
   ]
  },
  {
   "cell_type": "markdown",
   "id": "6d7b121c",
   "metadata": {},
   "source": [
    "#### NAME: DARSHAN M\n",
    "\n",
    "#### BATCH:JULY 2021"
   ]
  },
  {
   "cell_type": "markdown",
   "id": "197c3175",
   "metadata": {},
   "source": [
    "#### Problem Statement\n",
    "\n",
    "#### Task-1: Predict the percentage of the student based on the number of study hours"
   ]
  },
  {
   "cell_type": "markdown",
   "id": "107e6a4b",
   "metadata": {},
   "source": [
    "#### Dataset Description ---> Working with the data"
   ]
  },
  {
   "cell_type": "markdown",
   "id": "707f02e8",
   "metadata": {},
   "source": [
    "1) Hours: The number of hours the student studies\n",
    "\n",
    "2) Scores: The score the student secures"
   ]
  },
  {
   "cell_type": "markdown",
   "id": "23c4d107",
   "metadata": {},
   "source": [
    "#### Import the required libraries"
   ]
  },
  {
   "cell_type": "code",
   "execution_count": 1,
   "id": "7b5e28ec",
   "metadata": {},
   "outputs": [],
   "source": [
    "import numpy as np\n",
    "import pandas as pd\n",
    "import matplotlib.pyplot as plt\n",
    "import seaborn as sns\n",
    "import warnings\n",
    "warnings.filterwarnings('ignore')"
   ]
  },
  {
   "cell_type": "markdown",
   "id": "ee516a9c",
   "metadata": {},
   "source": [
    "#### Let's read the data"
   ]
  },
  {
   "cell_type": "code",
   "execution_count": 2,
   "id": "15da1f1b",
   "metadata": {},
   "outputs": [],
   "source": [
    "df=pd.read_csv('https://raw.githubusercontent.com/AdiPersonalWorks/Random/master/student_scores%20-%20student_scores.csv')"
   ]
  },
  {
   "cell_type": "markdown",
   "id": "d5725897",
   "metadata": {},
   "source": [
    "#### Printing the first five and last five observations of the data"
   ]
  },
  {
   "cell_type": "code",
   "execution_count": 3,
   "id": "78a294ec",
   "metadata": {},
   "outputs": [
    {
     "data": {
      "text/html": [
       "<div>\n",
       "<style scoped>\n",
       "    .dataframe tbody tr th:only-of-type {\n",
       "        vertical-align: middle;\n",
       "    }\n",
       "\n",
       "    .dataframe tbody tr th {\n",
       "        vertical-align: top;\n",
       "    }\n",
       "\n",
       "    .dataframe thead th {\n",
       "        text-align: right;\n",
       "    }\n",
       "</style>\n",
       "<table border=\"1\" class=\"dataframe\">\n",
       "  <thead>\n",
       "    <tr style=\"text-align: right;\">\n",
       "      <th></th>\n",
       "      <th>Hours</th>\n",
       "      <th>Scores</th>\n",
       "    </tr>\n",
       "  </thead>\n",
       "  <tbody>\n",
       "    <tr>\n",
       "      <th>0</th>\n",
       "      <td>2.5</td>\n",
       "      <td>21</td>\n",
       "    </tr>\n",
       "    <tr>\n",
       "      <th>1</th>\n",
       "      <td>5.1</td>\n",
       "      <td>47</td>\n",
       "    </tr>\n",
       "    <tr>\n",
       "      <th>2</th>\n",
       "      <td>3.2</td>\n",
       "      <td>27</td>\n",
       "    </tr>\n",
       "    <tr>\n",
       "      <th>3</th>\n",
       "      <td>8.5</td>\n",
       "      <td>75</td>\n",
       "    </tr>\n",
       "    <tr>\n",
       "      <th>4</th>\n",
       "      <td>3.5</td>\n",
       "      <td>30</td>\n",
       "    </tr>\n",
       "  </tbody>\n",
       "</table>\n",
       "</div>"
      ],
      "text/plain": [
       "   Hours  Scores\n",
       "0    2.5      21\n",
       "1    5.1      47\n",
       "2    3.2      27\n",
       "3    8.5      75\n",
       "4    3.5      30"
      ]
     },
     "execution_count": 3,
     "metadata": {},
     "output_type": "execute_result"
    }
   ],
   "source": [
    "df.head(5) ### first five observations"
   ]
  },
  {
   "cell_type": "code",
   "execution_count": 4,
   "id": "ee351e0e",
   "metadata": {},
   "outputs": [
    {
     "data": {
      "text/html": [
       "<div>\n",
       "<style scoped>\n",
       "    .dataframe tbody tr th:only-of-type {\n",
       "        vertical-align: middle;\n",
       "    }\n",
       "\n",
       "    .dataframe tbody tr th {\n",
       "        vertical-align: top;\n",
       "    }\n",
       "\n",
       "    .dataframe thead th {\n",
       "        text-align: right;\n",
       "    }\n",
       "</style>\n",
       "<table border=\"1\" class=\"dataframe\">\n",
       "  <thead>\n",
       "    <tr style=\"text-align: right;\">\n",
       "      <th></th>\n",
       "      <th>Hours</th>\n",
       "      <th>Scores</th>\n",
       "    </tr>\n",
       "  </thead>\n",
       "  <tbody>\n",
       "    <tr>\n",
       "      <th>20</th>\n",
       "      <td>2.7</td>\n",
       "      <td>30</td>\n",
       "    </tr>\n",
       "    <tr>\n",
       "      <th>21</th>\n",
       "      <td>4.8</td>\n",
       "      <td>54</td>\n",
       "    </tr>\n",
       "    <tr>\n",
       "      <th>22</th>\n",
       "      <td>3.8</td>\n",
       "      <td>35</td>\n",
       "    </tr>\n",
       "    <tr>\n",
       "      <th>23</th>\n",
       "      <td>6.9</td>\n",
       "      <td>76</td>\n",
       "    </tr>\n",
       "    <tr>\n",
       "      <th>24</th>\n",
       "      <td>7.8</td>\n",
       "      <td>86</td>\n",
       "    </tr>\n",
       "  </tbody>\n",
       "</table>\n",
       "</div>"
      ],
      "text/plain": [
       "    Hours  Scores\n",
       "20    2.7      30\n",
       "21    4.8      54\n",
       "22    3.8      35\n",
       "23    6.9      76\n",
       "24    7.8      86"
      ]
     },
     "execution_count": 4,
     "metadata": {},
     "output_type": "execute_result"
    }
   ],
   "source": [
    "df.tail(5) ## last five observations"
   ]
  },
  {
   "cell_type": "markdown",
   "id": "2eea4f73",
   "metadata": {},
   "source": [
    "#### Interpretation:-\n",
    "\n",
    "1) The dataset is a very simple dataset with only two features(hours and scores) "
   ]
  },
  {
   "cell_type": "markdown",
   "id": "269e0662",
   "metadata": {},
   "source": [
    "#### Lets look into the information of the dataset"
   ]
  },
  {
   "cell_type": "code",
   "execution_count": 5,
   "id": "c1f7c349",
   "metadata": {},
   "outputs": [
    {
     "name": "stdout",
     "output_type": "stream",
     "text": [
      "<class 'pandas.core.frame.DataFrame'>\n",
      "RangeIndex: 25 entries, 0 to 24\n",
      "Data columns (total 2 columns):\n",
      " #   Column  Non-Null Count  Dtype  \n",
      "---  ------  --------------  -----  \n",
      " 0   Hours   25 non-null     float64\n",
      " 1   Scores  25 non-null     int64  \n",
      "dtypes: float64(1), int64(1)\n",
      "memory usage: 528.0 bytes\n"
     ]
    }
   ],
   "source": [
    "df.info()"
   ]
  },
  {
   "cell_type": "markdown",
   "id": "0433682d",
   "metadata": {},
   "source": [
    "#### The dataset is having a total of 25 rows and 2 columns we can also get to know about this using the shape function.Let's look into it as well"
   ]
  },
  {
   "cell_type": "code",
   "execution_count": 6,
   "id": "35cd2a5b",
   "metadata": {},
   "outputs": [
    {
     "data": {
      "text/plain": [
       "(25, 2)"
      ]
     },
     "execution_count": 6,
     "metadata": {},
     "output_type": "execute_result"
    }
   ],
   "source": [
    "df.shape"
   ]
  },
  {
   "cell_type": "markdown",
   "id": "0b92d0b1",
   "metadata": {},
   "source": [
    "#### Let's check for missing values in the dataset"
   ]
  },
  {
   "cell_type": "code",
   "execution_count": 7,
   "id": "fff74672",
   "metadata": {},
   "outputs": [
    {
     "data": {
      "text/plain": [
       "Hours     0\n",
       "Scores    0\n",
       "dtype: int64"
      ]
     },
     "execution_count": 7,
     "metadata": {},
     "output_type": "execute_result"
    }
   ],
   "source": [
    "df.isnull().sum()"
   ]
  },
  {
   "cell_type": "markdown",
   "id": "fdc6c406",
   "metadata": {},
   "source": [
    "#### NOTE:- Our dataset is clean dataset and it does not possess any missing values"
   ]
  },
  {
   "cell_type": "markdown",
   "id": "ed24711f",
   "metadata": {},
   "source": [
    "#### Five point summary  of the dataset"
   ]
  },
  {
   "cell_type": "code",
   "execution_count": 8,
   "id": "e4b8ce7e",
   "metadata": {},
   "outputs": [
    {
     "data": {
      "text/html": [
       "<div>\n",
       "<style scoped>\n",
       "    .dataframe tbody tr th:only-of-type {\n",
       "        vertical-align: middle;\n",
       "    }\n",
       "\n",
       "    .dataframe tbody tr th {\n",
       "        vertical-align: top;\n",
       "    }\n",
       "\n",
       "    .dataframe thead th {\n",
       "        text-align: right;\n",
       "    }\n",
       "</style>\n",
       "<table border=\"1\" class=\"dataframe\">\n",
       "  <thead>\n",
       "    <tr style=\"text-align: right;\">\n",
       "      <th></th>\n",
       "      <th>Hours</th>\n",
       "      <th>Scores</th>\n",
       "    </tr>\n",
       "  </thead>\n",
       "  <tbody>\n",
       "    <tr>\n",
       "      <th>count</th>\n",
       "      <td>25.000000</td>\n",
       "      <td>25.000000</td>\n",
       "    </tr>\n",
       "    <tr>\n",
       "      <th>mean</th>\n",
       "      <td>5.012000</td>\n",
       "      <td>51.480000</td>\n",
       "    </tr>\n",
       "    <tr>\n",
       "      <th>std</th>\n",
       "      <td>2.525094</td>\n",
       "      <td>25.286887</td>\n",
       "    </tr>\n",
       "    <tr>\n",
       "      <th>min</th>\n",
       "      <td>1.100000</td>\n",
       "      <td>17.000000</td>\n",
       "    </tr>\n",
       "    <tr>\n",
       "      <th>25%</th>\n",
       "      <td>2.700000</td>\n",
       "      <td>30.000000</td>\n",
       "    </tr>\n",
       "    <tr>\n",
       "      <th>50%</th>\n",
       "      <td>4.800000</td>\n",
       "      <td>47.000000</td>\n",
       "    </tr>\n",
       "    <tr>\n",
       "      <th>75%</th>\n",
       "      <td>7.400000</td>\n",
       "      <td>75.000000</td>\n",
       "    </tr>\n",
       "    <tr>\n",
       "      <th>max</th>\n",
       "      <td>9.200000</td>\n",
       "      <td>95.000000</td>\n",
       "    </tr>\n",
       "  </tbody>\n",
       "</table>\n",
       "</div>"
      ],
      "text/plain": [
       "           Hours     Scores\n",
       "count  25.000000  25.000000\n",
       "mean    5.012000  51.480000\n",
       "std     2.525094  25.286887\n",
       "min     1.100000  17.000000\n",
       "25%     2.700000  30.000000\n",
       "50%     4.800000  47.000000\n",
       "75%     7.400000  75.000000\n",
       "max     9.200000  95.000000"
      ]
     },
     "execution_count": 8,
     "metadata": {},
     "output_type": "execute_result"
    }
   ],
   "source": [
    "df.describe()"
   ]
  },
  {
   "cell_type": "markdown",
   "id": "94056428",
   "metadata": {},
   "source": [
    "#### Interpretation:-\n",
    "\n",
    "From the above five point summary we can observe how the data is spread over the quantile ranges(25%,50%,75%) and we also get to know about the mean,standard deviation,min and the max of the data.We can also come down to the following conclusions from the dataset that is listed as below\n",
    "\n",
    "\n",
    "1) **Minimum hours** of study=1.10 hours\n",
    "\n",
    "2) **Maximum hours** of study=9.20 hours\n",
    "\n",
    "3) **Minimum score** secured=17\n",
    "\n",
    "4) **Maximum score** secured=95\n",
    "\n"
   ]
  },
  {
   "cell_type": "markdown",
   "id": "ba192160",
   "metadata": {},
   "source": [
    "#### Let's see for how many hours the topper of the class has studied"
   ]
  },
  {
   "cell_type": "code",
   "execution_count": 9,
   "id": "3b4ca2f6",
   "metadata": {},
   "outputs": [
    {
     "data": {
      "text/html": [
       "<div>\n",
       "<style scoped>\n",
       "    .dataframe tbody tr th:only-of-type {\n",
       "        vertical-align: middle;\n",
       "    }\n",
       "\n",
       "    .dataframe tbody tr th {\n",
       "        vertical-align: top;\n",
       "    }\n",
       "\n",
       "    .dataframe thead th {\n",
       "        text-align: right;\n",
       "    }\n",
       "</style>\n",
       "<table border=\"1\" class=\"dataframe\">\n",
       "  <thead>\n",
       "    <tr style=\"text-align: right;\">\n",
       "      <th></th>\n",
       "      <th>Hours</th>\n",
       "      <th>Scores</th>\n",
       "    </tr>\n",
       "  </thead>\n",
       "  <tbody>\n",
       "    <tr>\n",
       "      <th>15</th>\n",
       "      <td>8.9</td>\n",
       "      <td>95</td>\n",
       "    </tr>\n",
       "  </tbody>\n",
       "</table>\n",
       "</div>"
      ],
      "text/plain": [
       "    Hours  Scores\n",
       "15    8.9      95"
      ]
     },
     "execution_count": 9,
     "metadata": {},
     "output_type": "execute_result"
    }
   ],
   "source": [
    "df[df.Scores==df.Scores.max()]"
   ]
  },
  {
   "cell_type": "markdown",
   "id": "0e9e6b2a",
   "metadata": {},
   "source": [
    "We can say that the Topper of the class has studied for 8.9 hours"
   ]
  },
  {
   "cell_type": "markdown",
   "id": "7bee894a",
   "metadata": {},
   "source": [
    "#### Exploratory Data Analysis(EDA):-\n",
    "\n",
    "Exploratory data analysis is an important step in any research analysis. It searches for patterns and relationships in the data. In other words, we may explain EDA as a process to summarise the crucial characteristics of the data to get better insights."
   ]
  },
  {
   "cell_type": "code",
   "execution_count": 10,
   "id": "5b6e3ce0",
   "metadata": {},
   "outputs": [
    {
     "data": {
      "text/plain": [
       "Hours     float64\n",
       "Scores      int64\n",
       "dtype: object"
      ]
     },
     "execution_count": 10,
     "metadata": {},
     "output_type": "execute_result"
    }
   ],
   "source": [
    "df.dtypes"
   ]
  },
  {
   "cell_type": "markdown",
   "id": "9b5b1ee6",
   "metadata": {},
   "source": [
    "1) Measures of central tendency"
   ]
  },
  {
   "cell_type": "code",
   "execution_count": 11,
   "id": "00b9b63a",
   "metadata": {},
   "outputs": [
    {
     "data": {
      "text/plain": [
       "Hours      5.012\n",
       "Scores    51.480\n",
       "dtype: float64"
      ]
     },
     "execution_count": 11,
     "metadata": {},
     "output_type": "execute_result"
    }
   ],
   "source": [
    "df.mean() ### The average number of observations of the data"
   ]
  },
  {
   "cell_type": "markdown",
   "id": "6f2606f5",
   "metadata": {},
   "source": [
    "#### Interpretation:-\n",
    "\n",
    "The average number of study hours of the student is 5 hours and the average score is 51.48"
   ]
  },
  {
   "cell_type": "code",
   "execution_count": 12,
   "id": "be51c104",
   "metadata": {},
   "outputs": [
    {
     "data": {
      "text/plain": [
       "Hours      4.8\n",
       "Scores    47.0\n",
       "dtype: float64"
      ]
     },
     "execution_count": 12,
     "metadata": {},
     "output_type": "execute_result"
    }
   ],
   "source": [
    "df.median() ### The 50% distribution of the data"
   ]
  },
  {
   "cell_type": "markdown",
   "id": "1f34cb0f",
   "metadata": {},
   "source": [
    "#### Distribution of the data"
   ]
  },
  {
   "cell_type": "code",
   "execution_count": 13,
   "id": "ae233e8a",
   "metadata": {},
   "outputs": [
    {
     "data": {
      "image/png": "[encoded data removed]",
      "text/plain": [
       "<Figure size 720x360 with 4 Axes>"
      ]
     },
     "metadata": {
      "needs_background": "light"
     },
     "output_type": "display_data"
    }
   ],
   "source": [
    "# set plot size\n",
    "plt.rcParams[\"figure.figsize\"] = [10,5]\n",
    "\n",
    "# plot density plot using plot()\n",
    "# kind: set the type of plot\n",
    "# subplots: indicates whether to plot subplot for each variable or a single line plot\n",
    "# layout: specify the arrangement of the subplots\n",
    "# sharex: indicates whether to have the same scale on x-axis of all subplots\n",
    "df.plot(kind = 'density', subplots = True, layout = (2,2), sharex = False)\n",
    "\n",
    "# show plot\n",
    "plt.show()"
   ]
  },
  {
   "cell_type": "markdown",
   "id": "80f39d7e",
   "metadata": {},
   "source": [
    "#### A boxplot visual of the distribution of the data"
   ]
  },
  {
   "cell_type": "code",
   "execution_count": 14,
   "id": "b66f20cf",
   "metadata": {},
   "outputs": [
    {
     "data": {
      "image/png": "[encoded data removed]",
      "text/plain": [
       "<Figure size 720x360 with 1 Axes>"
      ]
     },
     "metadata": {
      "needs_background": "light"
     },
     "output_type": "display_data"
    },
    {
     "data": {
      "image/png": "[encoded data removed]",
      "text/plain": [
       "<Figure size 720x360 with 1 Axes>"
      ]
     },
     "metadata": {
      "needs_background": "light"
     },
     "output_type": "display_data"
    }
   ],
   "source": [
    "for i in df.columns:\n",
    "    sns.boxplot(df[i])\n",
    "    plt.show()"
   ]
  },
  {
   "cell_type": "markdown",
   "id": "13e1ccf2",
   "metadata": {},
   "source": [
    "#### Interpretation:-\n",
    "\n",
    "We can see there are no presence of outliers in both the features of the dataset"
   ]
  },
  {
   "cell_type": "markdown",
   "id": "af5ddbdd",
   "metadata": {},
   "source": [
    "#### Lets check the correlation strength of the data"
   ]
  },
  {
   "cell_type": "code",
   "execution_count": 15,
   "id": "2a4b0538",
   "metadata": {},
   "outputs": [
    {
     "data": {
      "image/png": "[encoded data removed]",
      "text/plain": [
       "<Figure size 720x360 with 2 Axes>"
      ]
     },
     "metadata": {
      "needs_background": "light"
     },
     "output_type": "display_data"
    }
   ],
   "source": [
    "sns.heatmap(df.corr(),annot=True)\n",
    "plt.show()"
   ]
  },
  {
   "cell_type": "markdown",
   "id": "3170f5ec",
   "metadata": {},
   "source": [
    "#### Interpretation:-\n",
    "\n",
    "We can visualise through the various plots above the distribution of the data.We can see that our target variable hours is continuos which implies the satisfaction of the one of the assumption of linear regression that is **Target variable must be continous**"
   ]
  },
  {
   "cell_type": "markdown",
   "id": "e6921ade",
   "metadata": {},
   "source": [
    "#### Linear Regression model"
   ]
  },
  {
   "cell_type": "markdown",
   "id": "a4a42b2d",
   "metadata": {},
   "source": [
    "#### Separating the dependent and independent variables"
   ]
  },
  {
   "cell_type": "code",
   "execution_count": 16,
   "id": "ac457510",
   "metadata": {},
   "outputs": [],
   "source": [
    "X=df.drop('Scores',axis=1)\n",
    "y=df['Scores']  ## target variable"
   ]
  },
  {
   "cell_type": "markdown",
   "id": "40a8153d",
   "metadata": {},
   "source": [
    "#### Splitting the data into train and test"
   ]
  },
  {
   "cell_type": "code",
   "execution_count": 17,
   "id": "91db2ad9",
   "metadata": {},
   "outputs": [],
   "source": [
    "from sklearn.model_selection import train_test_split"
   ]
  },
  {
   "cell_type": "code",
   "execution_count": 18,
   "id": "67542759",
   "metadata": {},
   "outputs": [],
   "source": [
    "X_train, X_test, y_train, y_test = train_test_split(X, y, test_size=0.33, random_state=42)"
   ]
  },
  {
   "cell_type": "code",
   "execution_count": 19,
   "id": "eb3b5e1b",
   "metadata": {},
   "outputs": [],
   "source": [
    "import statsmodels.api as sm\n",
    "from statsmodels.formula.api import ols"
   ]
  },
  {
   "cell_type": "markdown",
   "id": "fbc4e552",
   "metadata": {},
   "source": [
    "#### Linear Regression model"
   ]
  },
  {
   "cell_type": "code",
   "execution_count": 20,
   "id": "f12b4c98",
   "metadata": {},
   "outputs": [],
   "source": [
    "from sklearn.linear_model import LinearRegression"
   ]
  },
  {
   "cell_type": "code",
   "execution_count": 21,
   "id": "f7ca2443",
   "metadata": {},
   "outputs": [],
   "source": [
    "lr=LinearRegression()"
   ]
  },
  {
   "cell_type": "code",
   "execution_count": 22,
   "id": "31c84f98",
   "metadata": {},
   "outputs": [],
   "source": [
    "lr_model=lr.fit(X_train,y_train)"
   ]
  },
  {
   "cell_type": "code",
   "execution_count": 23,
   "id": "e2b29c7e",
   "metadata": {},
   "outputs": [],
   "source": [
    "r_sq1=lr_model.score(X_train,y_train)"
   ]
  },
  {
   "cell_type": "code",
   "execution_count": 24,
   "id": "ef9d82aa",
   "metadata": {},
   "outputs": [
    {
     "name": "stdout",
     "output_type": "stream",
     "text": [
      "The r-squared value of the model is 0.954\n"
     ]
    }
   ],
   "source": [
    "print('The r-squared value of the model is',round(r_sq1,3))"
   ]
  },
  {
   "cell_type": "markdown",
   "id": "327ef027",
   "metadata": {},
   "source": [
    "#### Interpretation:-\n",
    "\n",
    "We can see that there is **95.4% of total variation** explained by the target variable"
   ]
  },
  {
   "cell_type": "markdown",
   "id": "9bc33cc5",
   "metadata": {},
   "source": [
    "####  **Model performance measures**"
   ]
  },
  {
   "cell_type": "code",
   "execution_count": 25,
   "id": "a89d6d24",
   "metadata": {},
   "outputs": [],
   "source": [
    "train_pred=lr_model.predict(X_train)\n",
    "test_pred=lr_model.predict(X_test)"
   ]
  },
  {
   "cell_type": "code",
   "execution_count": 26,
   "id": "8cead313",
   "metadata": {},
   "outputs": [],
   "source": [
    "from sklearn.metrics import *"
   ]
  },
  {
   "cell_type": "markdown",
   "id": "e9423b3b",
   "metadata": {},
   "source": [
    "1) Root Mean Squared Error(**RMSE**)"
   ]
  },
  {
   "cell_type": "code",
   "execution_count": 27,
   "id": "dfad9672",
   "metadata": {},
   "outputs": [
    {
     "name": "stdout",
     "output_type": "stream",
     "text": [
      "Root Mean Squared Error (RMSE) on training set:  5.6455\n",
      "Root Mean Squared Error (RMSE) on test set:  4.9066\n"
     ]
    }
   ],
   "source": [
    "# calculate the MSE using the \"mean_squared_error\" function\n",
    "\n",
    "# MSE for the train data\n",
    "mse_train = mean_squared_error(y_train, train_pred)\n",
    "\n",
    "# take the square root of the MSE to calculate the RMSE\n",
    "# round the value upto 4 digits using 'round()'\n",
    "rmse_train = round(np.sqrt(mse_train), 4)\n",
    "\n",
    "# print the RMSE for the train set\n",
    "print(\"Root Mean Squared Error (RMSE) on training set: \", rmse_train)\n",
    "\n",
    "# MSE for the test data\n",
    "mse_test = mean_squared_error(y_test, test_pred)\n",
    "\n",
    "# take the square root of the MSE to calculate the RMSE\n",
    "# round the value upto 4 digits using 'round()'\n",
    "rmse_test = round(np.sqrt(mse_test), 4)\n",
    "\n",
    "# print the RMSE for the test set\n",
    "print(\"Root Mean Squared Error (RMSE) on test set: \", rmse_test)"
   ]
  },
  {
   "cell_type": "markdown",
   "id": "4b11bcc1",
   "metadata": {},
   "source": [
    "#### NOTE:-\n",
    "\n",
    "**Lower** the value of RMSE better is the model"
   ]
  },
  {
   "cell_type": "markdown",
   "id": "3edb86ba",
   "metadata": {},
   "source": [
    "2) Mean Absolute Error(**MAE**)"
   ]
  },
  {
   "cell_type": "code",
   "execution_count": 28,
   "id": "04a9bbaa",
   "metadata": {},
   "outputs": [
    {
     "name": "stdout",
     "output_type": "stream",
     "text": [
      "Mean Absolute Error (MAE) on training set:  5.092\n",
      "Mean Absolute Error (MAE) on test set:  4.564\n"
     ]
    }
   ],
   "source": [
    "mae_train = round(mean_absolute_error(y_train, train_pred),4)\n",
    "\n",
    "# print the MAE for the training set\n",
    "print(\"Mean Absolute Error (MAE) on training set: \", mae_train)\n",
    "\n",
    "# calculate the MAE for the test data\n",
    "# round the value upto 4 digits using 'round()'\n",
    "mae_test = round(mean_absolute_error(y_test, test_pred),4)\n",
    "\n",
    "# print the MAE for the test set\n",
    "print(\"Mean Absolute Error (MAE) on test set: \", mae_test)"
   ]
  },
  {
   "cell_type": "markdown",
   "id": "e195b9a2",
   "metadata": {},
   "source": [
    "3) Mean Absolute Percentage Error(**MAPE**)"
   ]
  },
  {
   "cell_type": "code",
   "execution_count": 29,
   "id": "eeddba47",
   "metadata": {},
   "outputs": [],
   "source": [
    "# define a function to calculate MAPE\n",
    "# pass the actual and predicted values as input to the function\n",
    "# return the calculated MAPE \n",
    "def mape(actual, predicted):\n",
    "    return (np.mean(np.abs((actual - predicted) / actual)) * 100)"
   ]
  },
  {
   "cell_type": "code",
   "execution_count": 30,
   "id": "fa35aa35",
   "metadata": {},
   "outputs": [
    {
     "name": "stdout",
     "output_type": "stream",
     "text": [
      "Mean Absolute Percentage Error (MAPE) on training set:  10.9695\n",
      "Mean Absolute Percentage Error (MAPE) on test set:  12.5972\n"
     ]
    }
   ],
   "source": [
    "# calculate the mape using the \"mape()\" function created above\n",
    "\n",
    "# calculate the MAPE for the train data\n",
    "# round the value upto 4 digits using 'round()'\n",
    "mape_train = round(mape(y_train, train_pred),4)\n",
    "\n",
    "# print the MAPE for the training set\n",
    "print(\"Mean Absolute Percentage Error (MAPE) on training set: \", mape_train)\n",
    "\n",
    "# calculate the MAPE for the test data\n",
    "# round the value upto 4 digits using 'round()'\n",
    "mape_test = round(mape(y_test, test_pred),4)\n",
    "\n",
    "# print the MAPE for the test set\n",
    "print(\"Mean Absolute Percentage Error (MAPE) on test set: \", mape_test)"
   ]
  },
  {
   "cell_type": "markdown",
   "id": "7cc631c6",
   "metadata": {},
   "source": [
    "#### Interpretation:-\n",
    "\n",
    "From all the above model measures we can observe the model has attempted neither to overfit or underfit.It falls mostly in the acceptable range.But when considered with the error terms in hand we can see that the error for train is a bit higher which may be an indication of overfitting with respect to the training set"
   ]
  },
  {
   "cell_type": "markdown",
   "id": "70907ebb",
   "metadata": {},
   "source": [
    "#### Residual Distribution Check"
   ]
  },
  {
   "cell_type": "code",
   "execution_count": 36,
   "id": "51ecf422",
   "metadata": {},
   "outputs": [],
   "source": [
    "resid=y_test-test_pred"
   ]
  },
  {
   "cell_type": "code",
   "execution_count": 37,
   "id": "d3b919b6",
   "metadata": {},
   "outputs": [],
   "source": [
    "from statsmodels.graphics.gofplots import qqplot"
   ]
  },
  {
   "cell_type": "code",
   "execution_count": 38,
   "id": "e581d562",
   "metadata": {},
   "outputs": [
    {
     "data": {
      "image/png": "[encoded data removed]",
      "text/plain": [
       "<Figure size 720x360 with 1 Axes>"
      ]
     },
     "metadata": {
      "needs_background": "light"
     },
     "output_type": "display_data"
    }
   ],
   "source": [
    "qqplot(resid,line='r')\n",
    "plt.show()"
   ]
  },
  {
   "cell_type": "code",
   "execution_count": 41,
   "id": "646723ed",
   "metadata": {},
   "outputs": [
    {
     "data": {
      "image/png": "[encoded data removed]",
      "text/plain": [
       "<Figure size 720x360 with 1 Axes>"
      ]
     },
     "metadata": {
      "needs_background": "light"
     },
     "output_type": "display_data"
    }
   ],
   "source": [
    "sns.distplot(resid)\n",
    "plt.show()"
   ]
  },
  {
   "cell_type": "markdown",
   "id": "a29e52bd",
   "metadata": {},
   "source": [
    "#### Interpretation:-\n",
    "\n",
    "\n",
    "From the above plots of distribution of residuals we can say that the error terms are distributed near to normal distribution"
   ]
  },
  {
   "cell_type": "markdown",
   "id": "480f6b26",
   "metadata": {},
   "source": [
    "#### Comparing Model Performance"
   ]
  },
  {
   "cell_type": "code",
   "execution_count": 31,
   "id": "c9038057",
   "metadata": {},
   "outputs": [],
   "source": [
    "y_pred=lr_model.predict(X_test)"
   ]
  },
  {
   "cell_type": "code",
   "execution_count": 32,
   "id": "a1ca1bfa",
   "metadata": {},
   "outputs": [],
   "source": [
    "# create the table for all the model performance metrics\n",
    "# metrics considered for model comparision are MSE, RMSE, MAE and MAPE\n",
    "# create a list of column names\n",
    "cols = ['Model_Name', 'R-squared', 'Adj. R-squared', 'MSE', 'RMSE', 'MAE', 'MAPE']\n",
    "\n",
    "# creating a empty dataframe of the colums\n",
    "result_table = pd.DataFrame(columns = cols)"
   ]
  },
  {
   "cell_type": "code",
   "execution_count": 33,
   "id": "aa7d822b",
   "metadata": {},
   "outputs": [],
   "source": [
    "from statsmodels.tools.eval_measures import rmse\n",
    "from sklearn.metrics import mean_absolute_error\n",
    "from sklearn.metrics import mean_squared_error"
   ]
  },
  {
   "cell_type": "code",
   "execution_count": 34,
   "id": "12a071ce",
   "metadata": {},
   "outputs": [
    {
     "data": {
      "text/html": [
       "<div>\n",
       "<style scoped>\n",
       "    .dataframe tbody tr th:only-of-type {\n",
       "        vertical-align: middle;\n",
       "    }\n",
       "\n",
       "    .dataframe tbody tr th {\n",
       "        vertical-align: top;\n",
       "    }\n",
       "\n",
       "    .dataframe thead th {\n",
       "        text-align: right;\n",
       "    }\n",
       "</style>\n",
       "<table border=\"1\" class=\"dataframe\">\n",
       "  <thead>\n",
       "    <tr style=\"text-align: right;\">\n",
       "      <th></th>\n",
       "      <th>Model_Name</th>\n",
       "      <th>R-squared</th>\n",
       "      <th>Adj. R-squared</th>\n",
       "      <th>MSE</th>\n",
       "      <th>RMSE</th>\n",
       "      <th>MAE</th>\n",
       "      <th>MAPE</th>\n",
       "    </tr>\n",
       "  </thead>\n",
       "  <tbody>\n",
       "    <tr>\n",
       "      <th>0</th>\n",
       "      <td>Linear_Regression_Model</td>\n",
       "      <td>0.954335</td>\n",
       "      <td>NaN</td>\n",
       "      <td>24.074686</td>\n",
       "      <td>4.906596</td>\n",
       "      <td>4.564015</td>\n",
       "      <td>12.597239</td>\n",
       "    </tr>\n",
       "  </tbody>\n",
       "</table>\n",
       "</div>"
      ],
      "text/plain": [
       "                Model_Name  R-squared  Adj. R-squared        MSE      RMSE  \\\n",
       "0  Linear_Regression_Model   0.954335             NaN  24.074686  4.906596   \n",
       "\n",
       "        MAE       MAPE  \n",
       "0  4.564015  12.597239  "
      ]
     },
     "execution_count": 34,
     "metadata": {},
     "output_type": "execute_result"
    }
   ],
   "source": [
    "# calculate R-squared, Adjusted R-squared, MSE, RMSE, MAE and MAPE for full model\n",
    "# use 'rsquared' to calculate R-squared value\n",
    "# use 'rsquared_adj' to calculate Adjusted R-squared value\n",
    "# use 'mean_squared_error' to calculate MSE\n",
    "# use 'rmse' to calculate RMSE\n",
    "# use 'mean_absolute_error' to calculate MAE\n",
    "# use the defined function 'mape' to calculate MAPE\n",
    "MLR_full_model_metrics = pd.Series({'Model_Name': \"Linear_Regression_Model\",\n",
    "                     'R-squared': r_sq1,\n",
    "                     'MSE': mean_squared_error(y_test, y_pred),\n",
    "                     'RMSE': rmse(y_test, y_pred),\n",
    "                     'MAE': mean_absolute_error(y_test, y_pred),\n",
    "                     'MAPE': mape(y_test, y_pred)\n",
    "                   })\n",
    "\n",
    "# append the values to the result table\n",
    "result_table = result_table.append(MLR_full_model_metrics, ignore_index = True)\n",
    "\n",
    "# print the result table\n",
    "result_table"
   ]
  },
  {
   "cell_type": "markdown",
   "id": "c3d1a109",
   "metadata": {},
   "source": [
    "#### Prediction from the model "
   ]
  },
  {
   "cell_type": "markdown",
   "id": "2dc8acd3",
   "metadata": {},
   "source": [
    "Lets try to **predict the score of the student if he studies for 9.25hours/day**"
   ]
  },
  {
   "cell_type": "code",
   "execution_count": 45,
   "id": "f84b1bc8",
   "metadata": {},
   "outputs": [],
   "source": [
    "hours=9.25\n",
    "\n",
    "prediction=lr_model.predict([[hours]])"
   ]
  },
  {
   "cell_type": "code",
   "execution_count": 46,
   "id": "488adec5",
   "metadata": {},
   "outputs": [
    {
     "name": "stdout",
     "output_type": "stream",
     "text": [
      "If the student studies for 9.25 hours he might score [92.67022038]\n"
     ]
    }
   ],
   "source": [
    "print('If the student studies for {} hours he might score {}'.format(hours,prediction))"
   ]
  },
  {
   "cell_type": "markdown",
   "id": "49eb0e52",
   "metadata": {},
   "source": [
    "#### NOTE:-\n",
    "\n",
    "The model has predicted that if the student studies for **9.25 hous/day** he might score **92.67**"
   ]
  },
  {
   "cell_type": "markdown",
   "id": "4d53aeb1",
   "metadata": {},
   "source": [
    "#### Scope of Improvement from the existing model"
   ]
  },
  {
   "cell_type": "markdown",
   "id": "2f3b9fdc",
   "metadata": {},
   "source": [
    "1) We have only two features present in the dataset.With more number of features in hand we can take up more model improvement steps such as RFE,Stepwise Feature Selection(Backward and Forward)\n",
    "\n",
    "2) We have only numerical features in the dataset.If we had categorical columns we could have taken up steps like encoding\n"
   ]
  },
  {
   "cell_type": "markdown",
   "id": "19de86ca",
   "metadata": {},
   "source": [
    "#### Conclusion:-"
   ]
  },
  {
   "cell_type": "markdown",
   "id": "ad6e7d4f",
   "metadata": {},
   "source": [
    "We came to know that the topper of the class studies for 8.9 hours and he has secured the marks of 95.All the plots showed normal distribution of the features itself.We did not see any presence of outliers and the data in hand did not have any missing values.So we need not to take up the data missing treatment.\n",
    "\n",
    "The average student studies for about 5 hours and from this we can say that mostly if all students study for more than 5hours could help them to secure better scores.Even the model prediction show-cased a result where in if the student studied for 9.25 hours/day he would secure a score of 92.67."
   ]
  },
  {
   "cell_type": "markdown",
   "id": "c3cec9a9",
   "metadata": {},
   "source": [
    "#### --------------------------------------------THANK YOU--------------------------------------------------------------------------------"
   ]
  }
 ],
 "metadata": {
  "kernelspec": {
   "display_name": "Python 3",
   "language": "python",
   "name": "python3"
  },
  "language_info": {
   "codemirror_mode": {
    "name": "ipython",
    "version": 3
   },
   "file_extension": ".py",
   "mimetype": "text/x-python",
   "name": "python",
   "nbconvert_exporter": "python",
   "pygments_lexer": "ipython3",
   "version": "3.7.10"
  }
 },
 "nbformat": 4,
 "nbformat_minor": 5
}
